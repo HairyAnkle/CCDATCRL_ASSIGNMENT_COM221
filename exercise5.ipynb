{
  "cells": [
    {
      "cell_type": "markdown",
      "metadata": {
        "colab_type": "text",
        "id": "view-in-github"
      },
      "source": [
        "<a href=\"https://colab.research.google.com/github/robitussin/CCDATRCL_EXERCISES/blob/main/exercise5.ipynb\" target=\"_parent\"><img src=\"https://colab.research.google.com/assets/colab-badge.svg\" alt=\"Open In Colab\"/></a>"
      ]
    },
    {
      "cell_type": "markdown",
      "metadata": {
        "id": "DN15rkKvhGBr"
      },
      "source": [
        "# Exercise 5"
      ]
    },
    {
      "cell_type": "markdown",
      "metadata": {
        "id": "oEys_5t7hGBt"
      },
      "source": [
        "#### 1. Create a dictionary of your 10 favorite songs."
      ]
    },
    {
      "cell_type": "markdown",
      "metadata": {
        "id": "T1iOtzXshGBu"
      },
      "source": [
        "Example:\n",
        "\n",
        "|KEY|VALUE|\n",
        "|---|---|\n",
        "|001|My Love|\n",
        "|002|Like a rose|"
      ]
    },
    {
      "cell_type": "code",
      "execution_count": 5,
      "metadata": {
        "id": "dprOhMRchGBu"
      },
      "outputs": [],
      "source": [
        "# put your answer here\n",
        "fav_song ={\n",
        "    \"001\" : \"Rainbow\",\n",
        "    \"002\" : \"Let me be the one\",\n",
        "    \"003\" : \"I'll be missing you\",\n",
        "    \"004\" : \"Go getta\",\n",
        "    \"005\" : \"Drugs in the club\",\n",
        "    \"006\" : \"Burn\",\n",
        "    \"007\" : \"Panaginip\",\n",
        "    \"008\" : \"Inferno\",\n",
        "    \"009\" : \"Perfect\",\n",
        "    \"010\" : \"It wasn't me\"\n",
        "}"
      ]
    },
    {
      "cell_type": "markdown",
      "metadata": {
        "id": "g1FstA7XhGBv"
      },
      "source": [
        "#### 2. Loop through the dictionary by its **key** and **value**"
      ]
    },
    {
      "cell_type": "code",
      "execution_count": 6,
      "metadata": {
        "id": "QgyUTiuHhGBv"
      },
      "outputs": [
        {
          "name": "stdout",
          "output_type": "stream",
          "text": [
            "001 Rainbow\n",
            "002 Let me be the one\n",
            "003 I'll be missing you\n",
            "004 Go getta\n",
            "005 Drugs in the club\n",
            "006 Burn\n",
            "007 Panaginip\n",
            "008 Inferno\n",
            "009 Perfect\n",
            "010 It wasn't me\n"
          ]
        }
      ],
      "source": [
        "# put your answer here\n",
        "\n",
        "for x, y in fav_song.items():\n",
        "    print(x, y)"
      ]
    },
    {
      "cell_type": "markdown",
      "metadata": {
        "id": "h5N_w8-yhGBw"
      },
      "source": [
        "#### 3. Add one additional song"
      ]
    },
    {
      "cell_type": "code",
      "execution_count": 12,
      "metadata": {
        "id": "oUXMAJWEhGBw"
      },
      "outputs": [
        {
          "data": {
            "text/plain": [
              "{'001': 'Rainbow',\n",
              " '002': 'Let me be the one',\n",
              " '003': \"I'll be missing you\",\n",
              " '004': 'Go getta',\n",
              " '005': 'Drugs in the club',\n",
              " '006': 'Burn',\n",
              " '007': 'Panaginip',\n",
              " '008': 'Inferno',\n",
              " '009': 'Perfect',\n",
              " '010': \"It wasn't me\",\n",
              " '011': 'Creep'}"
            ]
          },
          "execution_count": 12,
          "metadata": {},
          "output_type": "execute_result"
        }
      ],
      "source": [
        "# put your answer here\n",
        "fav_song[\"011\"] = \"Creep\"\n",
        "fav_song"
      ]
    },
    {
      "cell_type": "markdown",
      "metadata": {
        "id": "7OlW5r9dhGBx"
      },
      "source": [
        "#### 4. Remove one song"
      ]
    },
    {
      "cell_type": "code",
      "execution_count": 13,
      "metadata": {
        "id": "g39mqwpDhGBx"
      },
      "outputs": [
        {
          "data": {
            "text/plain": [
              "{'001': 'Rainbow',\n",
              " '002': 'Let me be the one',\n",
              " '003': \"I'll be missing you\",\n",
              " '004': 'Go getta',\n",
              " '006': 'Burn',\n",
              " '007': 'Panaginip',\n",
              " '008': 'Inferno',\n",
              " '009': 'Perfect',\n",
              " '010': \"It wasn't me\",\n",
              " '011': 'Creep'}"
            ]
          },
          "execution_count": 13,
          "metadata": {},
          "output_type": "execute_result"
        }
      ],
      "source": [
        "# put your answer here\n",
        "fav_song.pop(\"005\")\n",
        "fav_song"
      ]
    },
    {
      "cell_type": "markdown",
      "metadata": {
        "id": "gZ8Sr1bzhGBy"
      },
      "source": [
        "#### 5. Create a nested dictionary of your 10 favorite songs with 5 genres. Display all of the items of the nested dictionary\n",
        "\n",
        "- Each nested dictionary's key should be the genre of the song\n",
        "- Put each song in their respective genre"
      ]
    },
    {
      "cell_type": "markdown",
      "metadata": {
        "id": "US1ZaaSJhGBy"
      },
      "source": [
        "Example:\n",
        "\n",
        "\n",
        "|KEY|VALUE|\n",
        "|---|---|\n",
        "|Pop|{001, Baby}|\n",
        "|Rock|{001, Enter Sandman}|"
      ]
    },
    {
      "cell_type": "code",
      "execution_count": 15,
      "metadata": {
        "id": "z577KULkhGBz"
      },
      "outputs": [],
      "source": [
        "# put your answer here\n",
        "new_fav_song = {\n",
        "    \"RNB\" : {\n",
        "        \"001\" : \"Burn\",\n",
        "        \"002\" : \"It wasn't\",\n",
        "        \"003\" : \"Rainbow\",\n",
        "        \"004\" : \"Let me be the one\",\n",
        "        \"005\" : \"Panaginip\",\n",
        "        \"006\" : \"I'll be missing you\"\n",
        "    },\n",
        "\n",
        "    \"Rock\" : {\n",
        "        \"201\" : \"Go getta\",\n",
        "        \"202\" : \"Creep\",\n",
        "        \"203\" : \"Inferno\",\n",
        "    },\n",
        "\n",
        "    \"Pop\" : {\n",
        "        \"301\" : \"Perfect\",\n",
        "        \"302\" : \"Go getta\"\n",
        "    }\n",
        "}"
      ]
    },
    {
      "cell_type": "markdown",
      "metadata": {
        "id": "ZMgltzOkhGBz"
      },
      "source": [
        "#### 6. Print the first song of the first genre"
      ]
    },
    {
      "cell_type": "code",
      "execution_count": 16,
      "metadata": {
        "id": "nmXUGoNWhGBz"
      },
      "outputs": [
        {
          "name": "stdout",
          "output_type": "stream",
          "text": [
            "Burn\n"
          ]
        }
      ],
      "source": [
        "# put your answer here\n",
        "\n",
        "print(new_fav_song[\"RNB\"][\"001\"])"
      ]
    },
    {
      "cell_type": "markdown",
      "metadata": {
        "id": "dEcgwp_ihGB0"
      },
      "source": [
        "#### 7. Print the first song of the last genre"
      ]
    },
    {
      "cell_type": "code",
      "execution_count": 17,
      "metadata": {
        "id": "ITbuWq2UhGB0"
      },
      "outputs": [
        {
          "name": "stdout",
          "output_type": "stream",
          "text": [
            "Perfect\n"
          ]
        }
      ],
      "source": [
        "# put your answer here\n",
        "print(new_fav_song[\"Pop\"][\"301\"])"
      ]
    }
  ],
  "metadata": {
    "colab": {
      "include_colab_link": true,
      "provenance": []
    },
    "kernelspec": {
      "display_name": "Python 3",
      "language": "python",
      "name": "python3"
    },
    "language_info": {
      "codemirror_mode": {
        "name": "ipython",
        "version": 3
      },
      "file_extension": ".py",
      "mimetype": "text/x-python",
      "name": "python",
      "nbconvert_exporter": "python",
      "pygments_lexer": "ipython3",
      "version": "3.10.12"
    },
    "orig_nbformat": 4
  },
  "nbformat": 4,
  "nbformat_minor": 0
}
